{
 "cells": [
  {
   "cell_type": "markdown",
   "metadata": {},
   "source": [
    "## Simplicial Flow Example\n",
    "\n",
    "Given a simplicial complex $X$, a _discrete vector field_ on $X$ is a [matching](https://en.wikipedia.org/wiki/Matching_(graph_theory)) on the simplices of $X$ such that two simplices are only matched if one is a codimension-1 face (i.e. a facet) of the other. An example is illustrated here:\n",
    "\n",
    "![SimplicialFlowExample](./SimplicialFlowExample.png \"Simplicial Complex with Discrete Vector Field\")\n",
    "\n",
    "Define an _attractor subcomplex_ $A$ to be a combinatorially closed subcomplex of the simplicial complex such that for any matched simplices $\\sigma$ and $\\tau$, $\\sigma \\in A$ if and only if $\\tau \\in A$. The collection of attractor subcomplexes, partially ordered by inclusion, comprise a lattice $L$. The join-irreducible elements of $L$ yield a poset $P$ (from which $L$ can be recovered via [Birkhoff's Representation Theorem](https://en.wikipedia.org/wiki/Birkhoff%27s_representation_theorem)). We define a map $F$, which we call the _cell fibration_ to be the map $\\sigma \\mapsto \\cap_{\\sigma \\in A \\in L} A$. It is not difficult to see that $F(\\sigma) \\in P$ for each simplex $\\sigma$. We call the preimages $F^{-1}(p)$ for $p \\in P$ _fibers_. The poset $P$ and the associated fibers may be computed via [Tarjan's Algorithm for Strongly Connected Components](https://en.wikipedia.org/wiki/Tarjan%27s_strongly_connected_components_algorithm) applied to the graph of simplices with directed edges from each simplex to its facets and from each matched simplex to its mate in the matching. This provides a setting in which the theory of connection matrices applies. More information on the computation of the connection matrix be found [here](https://shaunharker.github.io/2016-12-15-Workshop/#1)."
   ]
  },
  {
   "cell_type": "code",
   "execution_count": 1,
   "metadata": {},
   "outputs": [],
   "source": [
    "from pychomp import *"
   ]
  },
  {
   "cell_type": "markdown",
   "metadata": {},
   "source": [
    "## Create the Simplicial Complex"
   ]
  },
  {
   "cell_type": "code",
   "execution_count": 2,
   "metadata": {},
   "outputs": [],
   "source": [
    "sc = SimplicialComplex([[0,1,2],[0,2,3]])"
   ]
  },
  {
   "cell_type": "markdown",
   "metadata": {},
   "source": [
    "## Create a Discrete Vector Field"
   ]
  },
  {
   "cell_type": "code",
   "execution_count": 3,
   "metadata": {},
   "outputs": [],
   "source": [
    "class DiscreteVectorField:\n",
    "    def __init__(self, c):\n",
    "        self.c = c\n",
    "        self.pairing = {}\n",
    "        for i in c:\n",
    "            self.pairing[tuple(self.c.simplex(i))] = self.c.simplex(i)\n",
    "    def add_pair(self, s, t):\n",
    "        self.pairing[tuple(s)] = t\n",
    "        self.pairing[tuple(t)] = s        \n",
    "    def __call__(self, i):\n",
    "        return self.c.idx(self.pairing[tuple(self.c.simplex(i))])"
   ]
  },
  {
   "cell_type": "code",
   "execution_count": 4,
   "metadata": {},
   "outputs": [],
   "source": [
    "dvf = DiscreteVectorField (sc)\n",
    "dvf.add_pair([0], [0,1])\n",
    "dvf.add_pair([1], [1,2])\n",
    "dvf.add_pair([2], [0,2])\n",
    "dvf.add_pair([0,3], [0,2,3])"
   ]
  },
  {
   "cell_type": "markdown",
   "metadata": {},
   "source": [
    "## Create a Multivalued Map"
   ]
  },
  {
   "cell_type": "code",
   "execution_count": 5,
   "metadata": {},
   "outputs": [],
   "source": [
    "# create multivalued map\n",
    "def F(i):\n",
    "    \"\"\"\n",
    "    A simplex maps to its mate (under the discrete vector field) and its boundary cells\n",
    "    \"\"\"\n",
    "    return sc.boundary({i}) | {dvf(i)}"
   ]
  },
  {
   "cell_type": "code",
   "execution_count": 6,
   "metadata": {},
   "outputs": [
    {
     "data": {
      "text/plain": [
       "{(0,): [[0, 1]],\n",
       " (1,): [[1, 2]],\n",
       " (2,): [[0, 2]],\n",
       " (3,): [[3]],\n",
       " (0, 1): [[0], [1]],\n",
       " (0, 2): [[0], [2]],\n",
       " (0, 3): [[0], [0, 2, 3], [3]],\n",
       " (1, 2): [[1], [2]],\n",
       " (2, 3): [[2, 3], [2], [3]],\n",
       " (0, 1, 2): [[0, 1, 2], [0, 1], [0, 2], [1, 2]],\n",
       " (0, 2, 3): [[2, 3], [0, 2], [0, 3]]}"
      ]
     },
     "execution_count": 6,
     "metadata": {},
     "output_type": "execute_result"
    }
   ],
   "source": [
    "# human legible multivalued map\n",
    "{ tuple(sc.simplex(i)) : [ sc.simplex(j) for j in F(i)] for i in sc}"
   ]
  },
  {
   "cell_type": "markdown",
   "metadata": {},
   "source": [
    "## Compute the Birkhoff representation of the lattice of representable attractors"
   ]
  },
  {
   "cell_type": "code",
   "execution_count": 7,
   "metadata": {},
   "outputs": [],
   "source": [
    "vertices = [ cell for cell in sc]\n",
    "(condensation_graph, component_map) = CondensationGraph(vertices, F)"
   ]
  },
  {
   "cell_type": "code",
   "execution_count": 8,
   "metadata": {},
   "outputs": [],
   "source": [
    "labels = {}\n",
    "for v in vertices:\n",
    "    comp = component_map[v]\n",
    "    if comp not in labels:\n",
    "        labels[comp] = set()\n",
    "    labels[comp].add(tuple(sc.simplex(v)))\n",
    "P = Poset(condensation_graph)\n",
    "P.children_.vertex_labels_ = { comp : str(labels[comp]) for comp in condensation_graph.vertices() }"
   ]
  },
  {
   "cell_type": "code",
   "execution_count": 12,
   "metadata": {},
   "outputs": [
    {
     "data": {
      "image/svg+xml": [
       "<?xml version=\"1.0\" encoding=\"UTF-8\" standalone=\"no\"?>\n",
       "<!DOCTYPE svg PUBLIC \"-//W3C//DTD SVG 1.1//EN\"\n",
       " \"http://www.w3.org/Graphics/SVG/1.1/DTD/svg11.dtd\">\n",
       "<!-- Generated by graphviz version 2.50.0 (0)\n",
       " -->\n",
       "<!-- Pages: 1 -->\n",
       "<svg width=\"372pt\" height=\"188pt\"\n",
       " viewBox=\"0.00 0.00 371.88 188.00\" xmlns=\"http://www.w3.org/2000/svg\" xmlns:xlink=\"http://www.w3.org/1999/xlink\">\n",
       "<g id=\"graph0\" class=\"graph\" transform=\"scale(1 1) rotate(0) translate(4 184)\">\n",
       "<polygon fill=\"white\" stroke=\"transparent\" points=\"-4,4 -4,-184 367.88,-184 367.88,4 -4,4\"/>\n",
       "<!-- 0 -->\n",
       "<g id=\"node1\" class=\"node\">\n",
       "<title>0</title>\n",
       "<ellipse fill=\"none\" stroke=\"black\" cx=\"331.39\" cy=\"-18\" rx=\"32.49\" ry=\"18\"/>\n",
       "<text text-anchor=\"middle\" x=\"331.39\" y=\"-14.3\" font-family=\"Times,serif\" font-size=\"14.00\">{(3,)}</text>\n",
       "</g>\n",
       "<!-- 1 -->\n",
       "<g id=\"node2\" class=\"node\">\n",
       "<title>1</title>\n",
       "<ellipse fill=\"none\" stroke=\"black\" cx=\"140.39\" cy=\"-18\" rx=\"140.28\" ry=\"18\"/>\n",
       "<text text-anchor=\"middle\" x=\"140.39\" y=\"-14.3\" font-family=\"Times,serif\" font-size=\"14.00\">{(0, 1), (2,), (1, 2), (1,), (0, 2), (0,)}</text>\n",
       "</g>\n",
       "<!-- 2 -->\n",
       "<g id=\"node3\" class=\"node\">\n",
       "<title>2</title>\n",
       "<ellipse fill=\"none\" stroke=\"black\" cx=\"288.39\" cy=\"-90\" rx=\"38.99\" ry=\"18\"/>\n",
       "<text text-anchor=\"middle\" x=\"288.39\" y=\"-86.3\" font-family=\"Times,serif\" font-size=\"14.00\">{(2, 3)}</text>\n",
       "</g>\n",
       "<!-- 2&#45;&gt;0 -->\n",
       "<g id=\"edge1\" class=\"edge\">\n",
       "<title>2&#45;&gt;0</title>\n",
       "<path fill=\"none\" stroke=\"black\" d=\"M298.58,-72.41C303.77,-63.95 310.2,-53.49 315.98,-44.08\"/>\n",
       "<polygon fill=\"black\" stroke=\"black\" points=\"319.02,-45.82 321.27,-35.47 313.05,-42.16 319.02,-45.82\"/>\n",
       "</g>\n",
       "<!-- 2&#45;&gt;1 -->\n",
       "<g id=\"edge2\" class=\"edge\">\n",
       "<title>2&#45;&gt;1</title>\n",
       "<path fill=\"none\" stroke=\"black\" d=\"M261.93,-76.49C240.47,-66.34 209.77,-51.82 184.6,-39.91\"/>\n",
       "<polygon fill=\"black\" stroke=\"black\" points=\"185.79,-36.6 175.25,-35.49 182.79,-42.93 185.79,-36.6\"/>\n",
       "</g>\n",
       "<!-- 3 -->\n",
       "<g id=\"node4\" class=\"node\">\n",
       "<title>3</title>\n",
       "<ellipse fill=\"none\" stroke=\"black\" cx=\"288.39\" cy=\"-162\" rx=\"72.59\" ry=\"18\"/>\n",
       "<text text-anchor=\"middle\" x=\"288.39\" y=\"-158.3\" font-family=\"Times,serif\" font-size=\"14.00\">{(0, 3), (0, 2, 3)}</text>\n",
       "</g>\n",
       "<!-- 3&#45;&gt;2 -->\n",
       "<g id=\"edge3\" class=\"edge\">\n",
       "<title>3&#45;&gt;2</title>\n",
       "<path fill=\"none\" stroke=\"black\" d=\"M288.39,-143.7C288.39,-135.98 288.39,-126.71 288.39,-118.11\"/>\n",
       "<polygon fill=\"black\" stroke=\"black\" points=\"291.89,-118.1 288.39,-108.1 284.89,-118.1 291.89,-118.1\"/>\n",
       "</g>\n",
       "<!-- 4 -->\n",
       "<g id=\"node5\" class=\"node\">\n",
       "<title>4</title>\n",
       "<ellipse fill=\"none\" stroke=\"black\" cx=\"140.39\" cy=\"-90\" rx=\"48.19\" ry=\"18\"/>\n",
       "<text text-anchor=\"middle\" x=\"140.39\" y=\"-86.3\" font-family=\"Times,serif\" font-size=\"14.00\">{(0, 1, 2)}</text>\n",
       "</g>\n",
       "<!-- 4&#45;&gt;1 -->\n",
       "<g id=\"edge4\" class=\"edge\">\n",
       "<title>4&#45;&gt;1</title>\n",
       "<path fill=\"none\" stroke=\"black\" d=\"M140.39,-71.7C140.39,-63.98 140.39,-54.71 140.39,-46.11\"/>\n",
       "<polygon fill=\"black\" stroke=\"black\" points=\"143.89,-46.1 140.39,-36.1 136.89,-46.1 143.89,-46.1\"/>\n",
       "</g>\n",
       "</g>\n",
       "</svg>\n"
      ],
      "text/plain": [
       "<graphviz.sources.Source at 0x106009810>"
      ]
     },
     "execution_count": 12,
     "metadata": {},
     "output_type": "execute_result"
    }
   ],
   "source": [
    "graphviz.Source(P.children_.graphviz())\n",
    "# P"
   ]
  },
  {
   "cell_type": "markdown",
   "metadata": {},
   "source": [
    "## Construct Cell Fibration object"
   ]
  },
  {
   "cell_type": "code",
   "execution_count": 13,
   "metadata": {},
   "outputs": [],
   "source": [
    "graded_complex = GradedComplex(sc, lambda v : component_map[v]) "
   ]
  },
  {
   "cell_type": "markdown",
   "metadata": {},
   "source": [
    "The computation then precedes by computing the homological Conley Index of the pairs $(N_p, L_p)$ where $N_p$ is the combinatorially closed subcomplex with cells $f^{-1}(\\{ x \\in P : x \\leq p\\})$, (i.e. the attracting block corresponding to the node p) and L_p is the is the combinatorially closed subcomplex with cells $f^{-1}(\\{ x \\in P : x < p\\})$ of the poset P. In fact, we get more, we also get a connection matrix, and the recipe for this is to reduce the complex via reductions that never collapse pairs which are not assigned to the same poset vertex (i.e. combinatorial morse set)."
   ]
  },
  {
   "cell_type": "markdown",
   "metadata": {},
   "source": [
    "## Compute Connection Matrix"
   ]
  },
  {
   "cell_type": "code",
   "execution_count": 14,
   "metadata": {},
   "outputs": [],
   "source": [
    "connection_matrix = ConnectionMatrix(graded_complex)"
   ]
  },
  {
   "cell_type": "markdown",
   "metadata": {},
   "source": [
    "## Visualize Connection Matrix\n",
    "\n",
    "The connection matrix is a cell fibration from a reduced complex to the poset `P`."
   ]
  },
  {
   "cell_type": "code",
   "execution_count": 17,
   "metadata": {},
   "outputs": [
    {
     "data": {
      "image/svg+xml": [
       "<?xml version=\"1.0\" encoding=\"UTF-8\" standalone=\"no\"?>\n",
       "<!DOCTYPE svg PUBLIC \"-//W3C//DTD SVG 1.1//EN\"\n",
       " \"http://www.w3.org/Graphics/SVG/1.1/DTD/svg11.dtd\">\n",
       "<!-- Generated by graphviz version 2.50.0 (0)\n",
       " -->\n",
       "<!-- Pages: 1 -->\n",
       "<svg width=\"232pt\" height=\"188pt\"\n",
       " viewBox=\"0.00 0.00 231.69 188.00\" xmlns=\"http://www.w3.org/2000/svg\" xmlns:xlink=\"http://www.w3.org/1999/xlink\">\n",
       "<g id=\"graph0\" class=\"graph\" transform=\"scale(1 1) rotate(0) translate(4 184)\">\n",
       "<polygon fill=\"white\" stroke=\"transparent\" points=\"-4,4 -4,-184 227.69,-184 227.69,4 -4,4\"/>\n",
       "<!-- 0 -->\n",
       "<g id=\"node1\" class=\"node\">\n",
       "<title>0</title>\n",
       "<ellipse fill=\"cyan\" stroke=\"black\" cx=\"172.35\" cy=\"-18\" rx=\"51.19\" ry=\"18\"/>\n",
       "<text text-anchor=\"middle\" x=\"172.35\" y=\"-14.3\" font-family=\"Times,serif\" font-size=\"14.00\">0 : (1, 0, 0)</text>\n",
       "</g>\n",
       "<!-- 1 -->\n",
       "<g id=\"node2\" class=\"node\">\n",
       "<title>1</title>\n",
       "<ellipse fill=\"cyan\" stroke=\"black\" cx=\"51.35\" cy=\"-18\" rx=\"51.19\" ry=\"18\"/>\n",
       "<text text-anchor=\"middle\" x=\"51.35\" y=\"-14.3\" font-family=\"Times,serif\" font-size=\"14.00\">1 : (1, 1, 0)</text>\n",
       "</g>\n",
       "<!-- 2 -->\n",
       "<g id=\"node3\" class=\"node\">\n",
       "<title>2</title>\n",
       "<ellipse fill=\"cyan\" stroke=\"black\" cx=\"172.35\" cy=\"-90\" rx=\"51.19\" ry=\"18\"/>\n",
       "<text text-anchor=\"middle\" x=\"172.35\" y=\"-86.3\" font-family=\"Times,serif\" font-size=\"14.00\">2 : (0, 1, 0)</text>\n",
       "</g>\n",
       "<!-- 2&#45;&gt;0 -->\n",
       "<g id=\"edge1\" class=\"edge\">\n",
       "<title>2&#45;&gt;0</title>\n",
       "<path fill=\"none\" stroke=\"black\" d=\"M172.35,-71.7C172.35,-63.98 172.35,-54.71 172.35,-46.11\"/>\n",
       "<polygon fill=\"black\" stroke=\"black\" points=\"175.85,-46.1 172.35,-36.1 168.85,-46.1 175.85,-46.1\"/>\n",
       "</g>\n",
       "<!-- 2&#45;&gt;1 -->\n",
       "<g id=\"edge2\" class=\"edge\">\n",
       "<title>2&#45;&gt;1</title>\n",
       "<path fill=\"none\" stroke=\"black\" d=\"M146.98,-74.33C129.27,-64.08 105.42,-50.28 85.96,-39.03\"/>\n",
       "<polygon fill=\"black\" stroke=\"black\" points=\"87.5,-35.87 77.09,-33.9 84,-41.93 87.5,-35.87\"/>\n",
       "</g>\n",
       "<!-- 3 -->\n",
       "<g id=\"node4\" class=\"node\">\n",
       "<title>3</title>\n",
       "<ellipse fill=\"none\" stroke=\"black\" cx=\"172.35\" cy=\"-162\" rx=\"27\" ry=\"18\"/>\n",
       "<text text-anchor=\"middle\" x=\"172.35\" y=\"-158.3\" font-family=\"Times,serif\" font-size=\"14.00\"> </text>\n",
       "</g>\n",
       "<!-- 3&#45;&gt;2 -->\n",
       "<g id=\"edge3\" class=\"edge\">\n",
       "<title>3&#45;&gt;2</title>\n",
       "<path fill=\"none\" stroke=\"black\" d=\"M172.35,-143.7C172.35,-135.98 172.35,-126.71 172.35,-118.11\"/>\n",
       "<polygon fill=\"black\" stroke=\"black\" points=\"175.85,-118.1 172.35,-108.1 168.85,-118.1 175.85,-118.1\"/>\n",
       "</g>\n",
       "<!-- 4 -->\n",
       "<g id=\"node5\" class=\"node\">\n",
       "<title>4</title>\n",
       "<ellipse fill=\"cyan\" stroke=\"black\" cx=\"51.35\" cy=\"-90\" rx=\"51.19\" ry=\"18\"/>\n",
       "<text text-anchor=\"middle\" x=\"51.35\" y=\"-86.3\" font-family=\"Times,serif\" font-size=\"14.00\">4 : (0, 0, 1)</text>\n",
       "</g>\n",
       "<!-- 4&#45;&gt;1 -->\n",
       "<g id=\"edge4\" class=\"edge\">\n",
       "<title>4&#45;&gt;1</title>\n",
       "<path fill=\"none\" stroke=\"black\" d=\"M51.35,-71.7C51.35,-63.98 51.35,-54.71 51.35,-46.11\"/>\n",
       "<polygon fill=\"black\" stroke=\"black\" points=\"54.85,-46.1 51.35,-36.1 47.85,-46.1 54.85,-46.1\"/>\n",
       "</g>\n",
       "</g>\n",
       "</svg>\n"
      ],
      "text/plain": [
       "<graphviz.sources.Source at 0x10600b0d0>"
      ]
     },
     "execution_count": 17,
     "metadata": {},
     "output_type": "execute_result"
    }
   ],
   "source": [
    "# Conley-Morse Graph\n",
    "graphviz.Source(DrawGradedComplex(connection_matrix, P).graphviz())\n",
    "# DrawGradedComplex(connection_matrix, P)"
   ]
  },
  {
   "cell_type": "code",
   "execution_count": 18,
   "metadata": {},
   "outputs": [
    {
     "name": "stdout",
     "output_type": "stream",
     "text": [
      "cell = 0, poset vertex 1, boundary = set()\n",
      "cell = 1, poset vertex 0, boundary = set()\n",
      "cell = 2, poset vertex 1, boundary = set()\n",
      "cell = 3, poset vertex 2, boundary = {0, 1}\n",
      "cell = 4, poset vertex 4, boundary = {2}\n"
     ]
    }
   ],
   "source": [
    "for i in connection_matrix.complex():\n",
    "    print(\"cell = \" + str(i) + \", poset vertex \" + str(connection_matrix.value(i)) + \", boundary = \" + str(connection_matrix.complex().boundary({i})))"
   ]
  },
  {
   "cell_type": "code",
   "execution_count": 19,
   "metadata": {},
   "outputs": [
    {
     "name": "stdout",
     "output_type": "stream",
     "text": [
      "0 : set()\n",
      "1 : set()\n",
      "2 : set()\n",
      "3 : {0, 1}\n",
      "4 : {2}\n"
     ]
    }
   ],
   "source": [
    "# Connection Matrix Entries\n",
    "for generator in connection_matrix.complex():\n",
    "    print(str(generator) + \" : \" + str(connection_matrix.complex().boundary({generator})))"
   ]
  },
  {
   "cell_type": "code",
   "execution_count": 20,
   "metadata": {},
   "outputs": [],
   "source": [
    "df = DrawGradedComplex(connection_matrix, P)"
   ]
  },
  {
   "cell_type": "code",
   "execution_count": 21,
   "metadata": {},
   "outputs": [
    {
     "data": {
      "text/plain": [
       "'digraph {\\n0[label=\"0 : (1, 0, 0)\", style=filled, fillcolor=cyan];\\n1[label=\"1 : (1, 1, 0)\", style=filled, fillcolor=cyan];\\n2[label=\"2 : (0, 1, 0)\", style=filled, fillcolor=cyan];\\n3[label=\" \"];\\n4[label=\"4 : (0, 0, 1)\", style=filled, fillcolor=cyan];\\n2 -> 0;\\n2 -> 1;\\n3 -> 2;\\n4 -> 1;\\n}\\n'"
      ]
     },
     "execution_count": 21,
     "metadata": {},
     "output_type": "execute_result"
    }
   ],
   "source": [
    "df.graphviz()"
   ]
  },
  {
   "cell_type": "code",
   "execution_count": 22,
   "metadata": {},
   "outputs": [],
   "source": [
    "# with open(\"example.gv\", \"w\") as outfile:\n",
    "#     outfile.write(df.graphviz())"
   ]
  },
  {
   "cell_type": "code",
   "execution_count": 23,
   "metadata": {},
   "outputs": [],
   "source": [
    "cc = connection_matrix.complex()"
   ]
  },
  {
   "cell_type": "code",
   "execution_count": 24,
   "metadata": {},
   "outputs": [
    {
     "name": "stdout",
     "output_type": "stream",
     "text": [
      "cell = 0, poset vertex 1, boundary = set()\n",
      "cell = 1, poset vertex 0, boundary = set()\n",
      "cell = 2, poset vertex 1, boundary = set()\n",
      "cell = 3, poset vertex 2, boundary = {0, 1}\n",
      "cell = 4, poset vertex 4, boundary = {2}\n"
     ]
    }
   ],
   "source": [
    "for i in connection_matrix.complex():\n",
    "    print(\"cell = \" + str(i) + \", poset vertex \" + str(connection_matrix.value(i)) + \", boundary = \" + str(connection_matrix.complex().boundary({i})))"
   ]
  },
  {
   "cell_type": "code",
   "execution_count": 25,
   "metadata": {},
   "outputs": [
    {
     "data": {
      "text/plain": [
       "[2, 2, 1]"
      ]
     },
     "execution_count": 25,
     "metadata": {},
     "output_type": "execute_result"
    }
   ],
   "source": [
    "[ connection_matrix.complex().size(d) for d in range(0,connection_matrix.complex().dimension()+1)]"
   ]
  },
  {
   "cell_type": "code",
   "execution_count": 26,
   "metadata": {},
   "outputs": [],
   "source": [
    "cmc = connection_matrix.complex()"
   ]
  },
  {
   "cell_type": "code",
   "execution_count": 27,
   "metadata": {},
   "outputs": [
    {
     "data": {
      "text/plain": [
       "[(0, [[2]]),\n",
       " (1, [[3]]),\n",
       " (2, [[0, 1], [0, 2], [1, 2]]),\n",
       " (3, [[2, 3]]),\n",
       " (4, [[0, 1, 2]])]"
      ]
     },
     "execution_count": 27,
     "metadata": {},
     "output_type": "execute_result"
    }
   ],
   "source": [
    "[ (i, [ sc.simplex(j) for j in cmc.lift({i})]) for i in cmc]"
   ]
  },
  {
   "cell_type": "code",
   "execution_count": 28,
   "metadata": {},
   "outputs": [
    {
     "data": {
      "text/plain": [
       "[2, 3]"
      ]
     },
     "execution_count": 28,
     "metadata": {},
     "output_type": "execute_result"
    }
   ],
   "source": [
    "sc.simplex(8)"
   ]
  },
  {
   "cell_type": "code",
   "execution_count": null,
   "metadata": {},
   "outputs": [],
   "source": []
  }
 ],
 "metadata": {
  "kernelspec": {
   "display_name": "Python 3 (ipykernel)",
   "language": "python",
   "name": "python3"
  },
  "language_info": {
   "codemirror_mode": {
    "name": "ipython",
    "version": 3
   },
   "file_extension": ".py",
   "mimetype": "text/x-python",
   "name": "python",
   "nbconvert_exporter": "python",
   "pygments_lexer": "ipython3",
   "version": "3.11.5"
  }
 },
 "nbformat": 4,
 "nbformat_minor": 4
}
