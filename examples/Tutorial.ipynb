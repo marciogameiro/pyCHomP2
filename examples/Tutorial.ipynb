{
 "cells": [
  {
   "cell_type": "code",
   "execution_count": 1,
   "metadata": {},
   "outputs": [],
   "source": [
    "import pychomp"
   ]
  },
  {
   "cell_type": "markdown",
   "metadata": {},
   "source": [
    "## help and docstrings\n",
    "\n",
    "In addition to looking at the source code, the python `help` command gives information.\n",
    "The information it gives could be improved by introducing \"docstrings\" into the python wrapping code. For a listing of package/module contents you can also use `dir`. Examples:\n",
    "\n",
    "    dir(pychomp)\n",
    "    help(pychomp)\n",
    "    \n",
    "Notice there is a subpackage `pychomp._chomp`. This is the subpackage for the so-called _extension module_ which is the C++ code that has a python wrapper around it. The technology I am using for the python wrapping is `pybind11`.\n",
    "\n",
    "The classes and functions living in `pychomp._chomp` are imported into the top level so you don't have to write `pychomp._chomp.XXX` but rather simply `pychomp.XXX`. The annoying thing, however, is that the various things don't show up when you type `help(pychomp)`, and you'd have to type `help(pychomp._chomp)`. Perhaps there is a better way of packaging the python code and extension module together. You can poke around with the following commands:\n",
    "\n",
    "    dir(pychomp._chomp)\n",
    "    help(pychomp._chomp)\n",
    "    help(pychomp.SimplicialComplex)\n",
    "    help(pychomp.DualComplex)\n",
    "    "
   ]
  },
  {
   "cell_type": "markdown",
   "metadata": {},
   "source": [
    "## Complexes in pychomp\n",
    "\n",
    "For the present discussion, by _chain complex_ we specifically mean a chain complex over finite dimensional vector spaces (i.e. fields rather than rings). In `pychomp`, the field is currently $\\mathbb{F}_2$. \n",
    "\n",
    "A _cell complex_ is a chain complex $C$ equipped with a distinguished basis for each $C_n$ such that at most finitely many of the $C_n$ are nontrivial. We demand the dimensional grading of the $C_n$ are non-negative integers. We call the maximum grade $n$ for which $C_n \\neq 0$ the _dimension of the complex_.\n",
    "\n",
    "The complexes of `pychomp` are cell complexes, though we may regard them as chain complexes when dealing with them in a way that is insensitive to the distinguished bases. \n",
    "\n",
    "The word _dimension_ is unfortunately rather overloaded in the present context, as it can refer to three distinct things:\n",
    "\n",
    "1. (grade-dimension) The grading parameter $n$ of a chain complex $C = (C_n, d_n)$\n",
    "2. (space-dimension) The dimension of a vector space\n",
    "3. (complex-dimension) The dimension of the complex, i.e. the maximum $n$ for which $C_n \\neq 0$\n",
    "\n",
    "\n",
    "Given an instance `C` of (a subclass of) the `pychomp.Complex` class, we have the following methods:\n",
    "\n",
    "* `C.dimension()` -- returns the complex-dimension of the complex `C`\n",
    "* `C.count()` -- returns a list of space-dimensions $\\dim C_n$ for $n = 0, \\cdots,$`C.dimension()`\n",
    "\n",
    "Note: It is named `count` is named thus as it counts the number of cells at each grade-dimension."
   ]
  },
  {
   "cell_type": "markdown",
   "metadata": {},
   "source": [
    "# Building an example Simplicial Complex\n",
    "\n",
    "A simplicial complex is built from a list of (maximal) simplices. It is OK to include non-maximal simplices; they are ignored as they are built anyway."
   ]
  },
  {
   "cell_type": "code",
   "execution_count": 2,
   "metadata": {},
   "outputs": [],
   "source": [
    "simplices = [ [1,2,3], [0,2,3], [0,1,3], [0,1,2], [4,5,6,7]]"
   ]
  },
  {
   "cell_type": "code",
   "execution_count": 3,
   "metadata": {},
   "outputs": [],
   "source": [
    "C = pychomp.SimplicialComplex(simplices)"
   ]
  },
  {
   "cell_type": "code",
   "execution_count": 4,
   "metadata": {},
   "outputs": [
    {
     "name": "stdout",
     "output_type": "stream",
     "text": [
      "C.dimension() = 3\n",
      "C.count() = [8, 12, 8, 1]\n"
     ]
    }
   ],
   "source": [
    "print(\"C.dimension() =\", C.dimension())\n",
    "print(\"C.count() =\", C.count())"
   ]
  },
  {
   "cell_type": "markdown",
   "metadata": {},
   "source": [
    "# Homology \n",
    "\n",
    "The homology modules $(H_n(C))$ of a chain complex $C$ are in fact vector spaces and may be equipped with zero differentials $0_n : H_{n+1}(C) \\to H_n(C)$ to give another chain complex which we call $H_*(C)$. We call this the _homology complex_.\n",
    "\n",
    "**Remark.** In fact, in this setting we may realize $H_*$ as an endofunctor on the category of chain complexes. This endofunctor is idempotent up to isomorphism, i.e. $H_* ( H_* ( C ) ) \\simeq H_*(C)$. \n",
    "\n",
    "**Theorem.** Any chain complex with zero differentials that is chain equivalent to $C$ is isomorphic to $H_*(C)$.\n",
    "\n",
    "_Proof._ This is straightforward from: (1) chain equivalence is an equivalence relation, (2) homology is an invariant of chain equivalence classes, and (3) chain complexes $C$ and $D$ with zero differentials are chain equivalent iff they are isomorphic (i.e. iff $\\dim C_n = \\dim D_n$ for each $n$). $\\square$\n",
    "\n",
    "This theorem informs the computational strategy of `pychomp` which uses repeated rounds of reduction (via discrete Morse theory) to give a sequence of chain equivalences leading to a fully reduced complex (i.e. a complex with zero differentials). This is implemented as `pychomp.Homology`.\n",
    "\n",
    "To summarize, let `C` be a chain complex. Then `pychomp.Homology(C)` yields a chain complex with zero differentials that is chain equivalent to `C`, which is isomorphic to (and thus might as well be identified with) with the homology complex $H_*(C)$.\n",
    "\n",
    "\n"
   ]
  },
  {
   "cell_type": "code",
   "execution_count": 5,
   "metadata": {},
   "outputs": [
    {
     "name": "stdout",
     "output_type": "stream",
     "text": [
      "[2, 0, 1, 0]\n"
     ]
    }
   ],
   "source": [
    "HC = pychomp.Homology(C)\n",
    "C_betti_numbers = HC.count()\n",
    "print(C_betti_numbers)"
   ]
  },
  {
   "cell_type": "markdown",
   "metadata": {},
   "source": [
    "# Dual Complex\n",
    "\n",
    "`pychomp` can construct a _dual complex_ from another complex.\n",
    "\n",
    "Given a complex $C = (C_n, d_n)$ with complex-dimension $d$, we define the dual complex $(D_n, e_n)$ via\n",
    "\n",
    "* $D_{k} := C_{d-k}$\n",
    "* $e_{k} := d^T_{d-k+1}$"
   ]
  },
  {
   "cell_type": "code",
   "execution_count": 6,
   "metadata": {},
   "outputs": [],
   "source": [
    "simplices = [ [1,2,3], [0,2,3], [0,1,3], [0,1,2], [4,5,6,7]]\n",
    "C = pychomp.SimplicialComplex(simplices)\n",
    "D = pychomp.DualComplex(C)"
   ]
  },
  {
   "cell_type": "code",
   "execution_count": 7,
   "metadata": {},
   "outputs": [
    {
     "name": "stdout",
     "output_type": "stream",
     "text": [
      "C.dimension() = 3\n",
      "C.count() = [8, 12, 8, 1]\n",
      "C betti numbers =  [2, 0, 1, 0]\n",
      "D.dimension() = 3\n",
      "D.count() = [1, 8, 12, 8]\n",
      "D betti numbers =  [0, 1, 0, 2]\n"
     ]
    }
   ],
   "source": [
    "print(\"C.dimension() =\", C.dimension())\n",
    "print(\"C.count() =\", C.count())\n",
    "print(\"C betti numbers = \", pychomp.Homology(C).count())\n",
    "print(\"D.dimension() =\", D.dimension())\n",
    "print(\"D.count() =\", D.count())\n",
    "print(\"D betti numbers = \", pychomp.Homology(D).count())"
   ]
  },
  {
   "cell_type": "code",
   "execution_count": null,
   "metadata": {},
   "outputs": [],
   "source": []
  }
 ],
 "metadata": {
  "kernelspec": {
   "display_name": "Python 3 (ipykernel)",
   "language": "python",
   "name": "python3"
  },
  "language_info": {
   "codemirror_mode": {
    "name": "ipython",
    "version": 3
   },
   "file_extension": ".py",
   "mimetype": "text/x-python",
   "name": "python",
   "nbconvert_exporter": "python",
   "pygments_lexer": "ipython3",
   "version": "3.11.5"
  }
 },
 "nbformat": 4,
 "nbformat_minor": 4
}
